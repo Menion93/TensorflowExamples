{
 "cells": [
  {
   "cell_type": "code",
   "execution_count": 1,
   "metadata": {},
   "outputs": [
    {
     "name": "stderr",
     "output_type": "stream",
     "text": [
      "Using TensorFlow backend.\n",
      "/home/menion/anaconda3/envs/ai/lib/python3.6/importlib/_bootstrap.py:205: RuntimeWarning: compiletime version 3.5 of module 'tensorflow.python.framework.fast_tensor_util' does not match runtime version 3.6\n",
      "  return f(*args, **kwds)\n"
     ]
    }
   ],
   "source": [
    "\n",
    "from keras.layers import Input, Conv2D, MaxPooling2D, UpSampling2D\n",
    "from keras.models import Model\n",
    "from keras.callbacks import TensorBoard, ModelCheckpoint\n",
    "from keras.datasets import cifar10\n",
    "import numpy as np\n"
   ]
  },
  {
   "cell_type": "code",
   "execution_count": 2,
   "metadata": {
    "collapsed": true
   },
   "outputs": [],
   "source": [
    "\n",
    "LOG_DIR = \"logs/keras_autoencoders\"\n",
    "KERAS_WEIGHTS = \"keras_weights/weights\"\n"
   ]
  },
  {
   "cell_type": "code",
   "execution_count": 3,
   "metadata": {
    "collapsed": true
   },
   "outputs": [],
   "source": [
    "\n",
    "(x_train, y_train), (x_test, y_test) = cifar10.load_data()\n",
    "x_train = x_train[np.where(y_train==1)[0],:,:,:]\n",
    "x_test = x_test[np.where(y_test==1)[0],:,:,:]\n"
   ]
  },
  {
   "cell_type": "code",
   "execution_count": 4,
   "metadata": {
    "collapsed": true
   },
   "outputs": [],
   "source": [
    "\n",
    "# Normalize and COnvert the data\n",
    "x_train = x_train.astype('float32') / 255.\n",
    "x_test = x_test.astype('float32') / 255.\n",
    "\n",
    "# Add Gaussian Noise\n",
    "x_train_n = x_train + 0.5 * np.random.normal(loc=0.0, scale=0.4, size=x_train.shape)\n",
    "x_test_n = x_test + 0.5 * np.random.normal(loc=0.0, scale=0.4, size=x_test.shape)\n",
    "\n",
    "x_train_n = np.clip(x_train_n, 0., 1.)\n",
    "x_test_n = np.clip(x_test_n, 0., 1.)\n"
   ]
  },
  {
   "cell_type": "code",
   "execution_count": 5,
   "metadata": {
    "collapsed": true
   },
   "outputs": [],
   "source": [
    "\n",
    "# 32X32 pixel x 3 RGB values\n",
    "inp_img = Input(shape=(32, 32, 3))\n",
    "\n",
    "# Model\n",
    "img = Conv2D(32, (3, 3), activation='relu', padding='same')(inp_img)\n",
    "img = MaxPooling2D((2, 2), padding='same')(img)\n",
    "img = Conv2D(32, (3, 3), activation='relu', padding='same')(img)\n",
    "img = UpSampling2D((2, 2))(img)\n",
    "decoded = Conv2D(3, (3, 3), activation='sigmoid', padding='same')(img)\n",
    "\n",
    "autoencoder = Model(inp_img, decoded)\n",
    "autoencoder.compile(optimizer='adadelta', loss='binary_crossentropy')\n"
   ]
  },
  {
   "cell_type": "code",
   "execution_count": 6,
   "metadata": {},
   "outputs": [
    {
     "name": "stdout",
     "output_type": "stream",
     "text": [
      "Train on 5000 samples, validate on 1000 samples\n",
      "Epoch 1/10\n",
      "5000/5000 [==============================] - 19s 4ms/step - loss: 0.6443 - val_loss: 0.5982\n",
      "Epoch 2/10\n",
      "5000/5000 [==============================] - 19s 4ms/step - loss: 0.5888 - val_loss: 0.5821\n",
      "Epoch 3/10\n",
      "5000/5000 [==============================] - 19s 4ms/step - loss: 0.5711 - val_loss: 0.5646\n",
      "Epoch 4/10\n",
      "5000/5000 [==============================] - 19s 4ms/step - loss: 0.5625 - val_loss: 0.5516\n",
      "Epoch 5/10\n",
      "5000/5000 [==============================] - 20s 4ms/step - loss: 0.5575 - val_loss: 0.5542\n",
      "Epoch 6/10\n",
      "5000/5000 [==============================] - 19s 4ms/step - loss: 0.5541 - val_loss: 0.5517\n",
      "Epoch 7/10\n",
      "5000/5000 [==============================] - 18s 4ms/step - loss: 0.5515 - val_loss: 0.5476\n",
      "Epoch 8/10\n",
      "5000/5000 [==============================] - 19s 4ms/step - loss: 0.5492 - val_loss: 0.5502\n",
      "Epoch 9/10\n",
      "5000/5000 [==============================] - 18s 4ms/step - loss: 0.5484 - val_loss: 0.5484\n",
      "Epoch 10/10\n",
      "5000/5000 [==============================] - 18s 4ms/step - loss: 0.5476 - val_loss: 0.5505\n"
     ]
    },
    {
     "data": {
      "text/plain": [
       "<keras.callbacks.History at 0x7f79455f1fd0>"
      ]
     },
     "execution_count": 6,
     "metadata": {},
     "output_type": "execute_result"
    }
   ],
   "source": [
    "\n",
    "tensorboard = TensorBoard(log_dir=LOG_DIR, histogram_freq=0, \n",
    "                         write_graph=True, write_images=True)\n",
    "\n",
    "model_saver = ModelCheckpoint(filepath=KERAS_WEIGHTS,verbose=0, period=2)\n",
    "\n",
    "autoencoder.fit(x_train_n, x_train, \n",
    "                epochs=10, \n",
    "                batch_size=64,\n",
    "                shuffle=True, \n",
    "                validation_data=(x_test_n, x_test),\n",
    "                callbacks=[tensorboard, model_saver])\n"
   ]
  },
  {
   "cell_type": "code",
   "execution_count": null,
   "metadata": {
    "collapsed": true
   },
   "outputs": [],
   "source": []
  }
 ],
 "metadata": {
  "kernelspec": {
   "display_name": "Python (ai)",
   "language": "python",
   "name": "ai"
  },
  "language_info": {
   "codemirror_mode": {
    "name": "ipython",
    "version": 3
   },
   "file_extension": ".py",
   "mimetype": "text/x-python",
   "name": "python",
   "nbconvert_exporter": "python",
   "pygments_lexer": "ipython3",
   "version": "3.6.2"
  }
 },
 "nbformat": 4,
 "nbformat_minor": 2
}
