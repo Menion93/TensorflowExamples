{
 "cells": [
  {
   "cell_type": "code",
   "execution_count": 1,
   "metadata": {},
   "outputs": [
    {
     "name": "stderr",
     "output_type": "stream",
     "text": [
      "/home/menion/anaconda3/envs/ai/lib/python3.6/importlib/_bootstrap.py:205: RuntimeWarning: compiletime version 3.5 of module 'tensorflow.python.framework.fast_tensor_util' does not match runtime version 3.6\n",
      "  return f(*args, **kwds)\n"
     ]
    }
   ],
   "source": [
    "import tensorflow as tf\n",
    "from tensorflow.examples.tutorials.mnist import input_data\n"
   ]
  },
  {
   "cell_type": "code",
   "execution_count": 2,
   "metadata": {},
   "outputs": [
    {
     "name": "stdout",
     "output_type": "stream",
     "text": [
      "Extracting /tmp/data/train-images-idx3-ubyte.gz\n",
      "Extracting /tmp/data/train-labels-idx1-ubyte.gz\n",
      "Extracting /tmp/data/t10k-images-idx3-ubyte.gz\n",
      "Extracting /tmp/data/t10k-labels-idx1-ubyte.gz\n"
     ]
    }
   ],
   "source": [
    "mnist = input_data.read_data_sets(\"/tmp/data/\", one_hot=True)\n",
    "element_size = 28\n",
    "time_steps = 28\n",
    "num_classes = 10\n",
    "batch_size = 128\n",
    "hidden_layer_size = 128"
   ]
  },
  {
   "cell_type": "code",
   "execution_count": 3,
   "metadata": {
    "collapsed": true
   },
   "outputs": [],
   "source": [
    "_inputs = tf.placeholder(tf.float32,shape=[None, time_steps,element_size],name='inputs')\n",
    "y = tf.placeholder(tf.float32, shape=[None, num_classes],name='inputs')\n",
    "\n",
    "# TensorFlow built-in functions\n",
    "rnn_cell = tf.contrib.rnn.BasicRNNCell(hidden_layer_size)\n",
    "outputs, _ = tf.nn.dynamic_rnn(rnn_cell, _inputs, dtype=tf.float32)\n",
    "\n",
    "Wl = tf.Variable(tf.truncated_normal([hidden_layer_size, num_classes],mean=0,stddev=.01))\n",
    "bl = tf.Variable(tf.truncated_normal([num_classes],mean=0,stddev=.01))\n"
   ]
  },
  {
   "cell_type": "code",
   "execution_count": 4,
   "metadata": {
    "collapsed": true
   },
   "outputs": [],
   "source": [
    "def get_linear_layer(vector):\n",
    "    return tf.matmul(vector, Wlget_linear_layer) + bl"
   ]
  },
  {
   "cell_type": "code",
   "execution_count": 5,
   "metadata": {
    "collapsed": true
   },
   "outputs": [],
   "source": [
    "# Build the output layer\n",
    "last_rnn_output = outputs[:,-1,:]\n",
    "final_output = get_linear_layer(last_rnn_output)\n",
    "softmax = tf.nn.softmax_cross_entropy_with_logits(logits=final_output,labels=y)\n",
    "\n",
    "# Build the function to minimize\n",
    "cross_entropy = tf.reduce_mean(softmax)\n",
    "\n",
    "# Build the optimizier\n",
    "train_step = tf.train.RMSPropOptimizer(0.001, 0.9).minimize(cross_entropy)\n",
    "\n",
    "# Build the test computation\n",
    "correct_prediction = tf.equal(tf.argmax(y,1), tf.argmax(final_output,1))\n",
    "accuracy = (tf.reduce_mean(tf.cast(correct_prediction, tf.float32)))*100\n",
    "\n",
    "# Use an interactive session and initialize the variables\n",
    "sess=tf.InteractiveSession()\n",
    "sess.run(tf.global_variables_initializer())\n",
    "\n",
    "test_data = mnist.test.images[:batch_size].reshape((-1,time_steps, element_size))\n",
    "test_label = mnist.test.labels[:batch_size]\n"
   ]
  },
  {
   "cell_type": "code",
   "execution_count": 6,
   "metadata": {},
   "outputs": [
    {
     "name": "stdout",
     "output_type": "stream",
     "text": [
      "Iter 0, Minibatch Loss= 2.301724, Training Accuracy= 9.37500\n",
      "Iter 1000, Minibatch Loss= 0.501239, Training Accuracy= 89.84375\n",
      "Iter 2000, Minibatch Loss= 0.089079, Training Accuracy= 98.43750\n",
      "Iter 3000, Minibatch Loss= 0.135005, Training Accuracy= 95.31250\n",
      "Testing Accuracy: 98.4375\n"
     ]
    }
   ],
   "source": [
    "# Train for 3001 batches of size batch_size\n",
    "for i in range(3001):\n",
    "    batch_x, batch_y = mnist.train.next_batch(batch_size)\n",
    "    batch_x = batch_x.reshape((batch_size, time_steps, element_size))\n",
    "    sess.run(train_step,feed_dict={_inputs:batch_x, y:batch_y})\n",
    "    # Print the accuracy every 1k batches\n",
    "    if i % 1000 == 0:\n",
    "        acc = sess.run(accuracy, feed_dict={_inputs: batch_x, y: batch_y})\n",
    "        loss = sess.run(cross_entropy,feed_dict={_inputs:batch_x, y:batch_y})\n",
    "        print (\"Iter \" + str(i) + \", Minibatch Loss= \" + \\\n",
    "        \"{:.6f}\".format(loss) + \", Training Accuracy= \" + \\\n",
    "        \"{:.5f}\".format(acc))\n",
    "        \n",
    "# Print the final accuracy\n",
    "print (\"Testing Accuracy:\", sess.run(accuracy, feed_dict={_inputs: test_data, y: test_label}))"
   ]
  }
 ],
 "metadata": {
  "kernelspec": {
   "display_name": "Python (ai)",
   "language": "python",
   "name": "ai"
  },
  "language_info": {
   "codemirror_mode": {
    "name": "ipython",
    "version": 3
   },
   "file_extension": ".py",
   "mimetype": "text/x-python",
   "name": "python",
   "nbconvert_exporter": "python",
   "pygments_lexer": "ipython3",
   "version": "3.6.2"
  }
 },
 "nbformat": 4,
 "nbformat_minor": 2
}
